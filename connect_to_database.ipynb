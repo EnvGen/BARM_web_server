{
 "cells": [
  {
   "cell_type": "code",
   "execution_count": 17,
   "metadata": {
    "collapsed": true
   },
   "outputs": [],
   "source": [
    "import app\n",
    "from models import *\n",
    "import pandas as pd\n",
    "import argparse\n",
    "import os\n",
    "import sys\n",
    "import logging\n",
    "import datetime\n",
    "import sqlalchemy\n",
    "\n",
    "from materialized_view_factory import refresh_all_mat_views"
   ]
  },
  {
   "cell_type": "code",
   "execution_count": 18,
   "metadata": {
    "collapsed": true
   },
   "outputs": [],
   "source": [
    "session = app.db.session()"
   ]
  },
  {
   "cell_type": "code",
   "execution_count": 19,
   "metadata": {
    "collapsed": false
   },
   "outputs": [],
   "source": [
    "sample_d = dict([(sample.scilifelab_code, sample) for sample in session.query(Sample).all()])"
   ]
  },
  {
   "cell_type": "code",
   "execution_count": 20,
   "metadata": {
    "collapsed": false
   },
   "outputs": [],
   "source": [
    "s = sample_d['120314']"
   ]
  },
  {
   "cell_type": "code",
   "execution_count": 21,
   "metadata": {
    "collapsed": false
   },
   "outputs": [
    {
     "data": {
      "text/plain": [
       "2702"
      ]
     },
     "execution_count": 21,
     "metadata": {},
     "output_type": "execute_result"
    }
   ],
   "source": [
    "len(s.gene_counts)"
   ]
  },
  {
   "cell_type": "code",
   "execution_count": 22,
   "metadata": {
    "collapsed": false
   },
   "outputs": [
    {
     "ename": "SyntaxError",
     "evalue": "keyword can't be an expression (<ipython-input-22-d775a6bba78d>, line 1)",
     "output_type": "error",
     "traceback": [
      "\u001b[0;36m  File \u001b[0;32m\"<ipython-input-22-d775a6bba78d>\"\u001b[0;36m, line \u001b[0;32m1\u001b[0m\n\u001b[0;31m    session.query(GeneCount).where(GeneCount.sample_id=1)\u001b[0m\n\u001b[0m                                  ^\u001b[0m\n\u001b[0;31mSyntaxError\u001b[0m\u001b[0;31m:\u001b[0m keyword can't be an expression\n"
     ]
    }
   ],
   "source": [
    "session.query(GeneCount).where(GeneCount.sample_id=1)"
   ]
  },
  {
   "cell_type": "code",
   "execution_count": 24,
   "metadata": {
    "collapsed": false
   },
   "outputs": [
    {
     "data": {
      "text/plain": [
       "<sqlalchemy.orm.attributes.InstrumentedAttribute at 0x10e6c6150>"
      ]
     },
     "execution_count": 24,
     "metadata": {},
     "output_type": "execute_result"
    }
   ],
   "source": [
    "GeneCount.gene_id"
   ]
  },
  {
   "cell_type": "code",
   "execution_count": 37,
   "metadata": {
    "collapsed": false
   },
   "outputs": [],
   "source": [
    "q = session.query(Gene, sqlalchemy.func.count(GeneCount.gene_id)).\\\n",
    "            join(GeneCount).\\\n",
    "            filter(Gene.id == GeneCount.gene_id).\\\n",
    "            filter(sqlalchemy.func.count(GeneCount.gene_id) == 65).\\\n",
    "            group_by(Gene.id)\n"
   ]
  },
  {
   "cell_type": "code",
   "execution_count": 38,
   "metadata": {
    "collapsed": false
   },
   "outputs": [
    {
     "name": "stdout",
     "output_type": "stream",
     "text": [
      "SELECT gene.id AS gene_id, gene.name AS gene_name, gene.reference_assembly_id AS gene_reference_assembly_id, gene.taxon_id AS gene_taxon_id, count(gene_count.gene_id) AS count_1 \n",
      "FROM gene JOIN gene_count ON gene.id = gene_count.gene_id \n",
      "WHERE gene.id = gene_count.gene_id AND count(gene_count.gene_id) = :count_2 GROUP BY gene.id\n"
     ]
    }
   ],
   "source": [
    "print(q)"
   ]
  }
 ],
 "metadata": {
  "kernelspec": {
   "display_name": "Python 3",
   "language": "python",
   "name": "python3"
  },
  "language_info": {
   "codemirror_mode": {
    "name": "ipython",
    "version": 3
   },
   "file_extension": ".py",
   "mimetype": "text/x-python",
   "name": "python",
   "nbconvert_exporter": "python",
   "pygments_lexer": "ipython3",
   "version": "3.4.4"
  }
 },
 "nbformat": 4,
 "nbformat_minor": 0
}
